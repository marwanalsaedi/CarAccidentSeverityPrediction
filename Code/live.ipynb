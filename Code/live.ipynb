{
 "cells": [
  {
   "cell_type": "code",
   "execution_count": 186,
   "metadata": {
    "ExecuteTime": {
     "end_time": "2020-10-29T14:00:52.742363Z",
     "start_time": "2020-10-29T14:00:52.727298Z"
    }
   },
   "outputs": [],
   "source": [
    "import numpy as np \n",
    "import pandas as pd\n",
    "import requests as rq\n",
    "from datetime import date,datetime\n",
    "from fastai.tabular.all import *\n",
    "api_key=\"*****************\"\n",
    "weather_key=\"************************\""
   ]
  },
  {
   "cell_type": "code",
   "execution_count": null,
   "metadata": {
    "ExecuteTime": {
     "start_time": "2020-10-29T21:30:33.476Z"
    },
    "scrolled": true
   },
   "outputs": [
    {
     "data": {
      "text/html": [],
      "text/plain": [
       "<IPython.core.display.HTML object>"
      ]
     },
     "metadata": {},
     "output_type": "display_data"
    },
    {
     "name": "stdout",
     "output_type": "stream",
     "text": [
      "Created data for  California successfully !\n"
     ]
    },
    {
     "data": {
      "text/html": [],
      "text/plain": [
       "<IPython.core.display.HTML object>"
      ]
     },
     "metadata": {},
     "output_type": "display_data"
    },
    {
     "name": "stdout",
     "output_type": "stream",
     "text": [
      "Created data for  District of Columbia successfully !\n"
     ]
    },
    {
     "data": {
      "text/html": [],
      "text/plain": [
       "<IPython.core.display.HTML object>"
      ]
     },
     "metadata": {},
     "output_type": "display_data"
    },
    {
     "name": "stdout",
     "output_type": "stream",
     "text": [
      "Created data for  Delaware successfully !\n"
     ]
    },
    {
     "data": {
      "text/html": [],
      "text/plain": [
       "<IPython.core.display.HTML object>"
      ]
     },
     "metadata": {},
     "output_type": "display_data"
    },
    {
     "name": "stdout",
     "output_type": "stream",
     "text": [
      "Created data for  Delaware successfully !\n"
     ]
    },
    {
     "data": {
      "text/html": [],
      "text/plain": [
       "<IPython.core.display.HTML object>"
      ]
     },
     "metadata": {},
     "output_type": "display_data"
    },
    {
     "name": "stdout",
     "output_type": "stream",
     "text": [
      "Created data for  Illinois successfully !\n"
     ]
    }
   ],
   "source": [
    "eventType=\"\"\n",
    "eventDate=\"\"\n",
    "systems=[\"austintx\",\"caltrans\",\"ddot_captop\",\"deldot\",\"dfw511\",\"fdot\",\"gdot\",\n",
    "         \"hococad\",\"ildot\",\"inrix\",\"iowadot\",\"massdot\",\"mdot_chart\",\"midot\",\n",
    "         \"mndot\",\"modot\",\"mstraffic\",\"ncdot\",\"nhdot\",\"njdot\",\"ny511\",\"ohdot\",\n",
    "         \"ordot\",'padot','paturnpike','pgcocad','pgcotrip','ridot','ritis_input',\n",
    "         'scdot','txdot','vdot','wisdot','wisdot_cad','wmata','wsdot']\n",
    "\n",
    "columns=['Zipcode', 'Start_Lat', 'Start_Lng', 'State',\n",
    "       'Temperature', 'Humidity', 'Pressure', 'Wind_Speed',\n",
    "       'Month', 'Day', 'Hour', 'Dayofweek', 'Weekend', 'Weather_id']\n",
    "s=\"all\"\n",
    "file=\"\"\n",
    "u=0\n",
    "df=pd.DataFrame()\n",
    "counter=0\n",
    "while True:\n",
    "    u+=1\n",
    "    if u==len(systems):u=0\n",
    "    response=rq.get(\"http://api.trafficview.org/event/?api-key=\"+api_key,params={\"system\":systems[u],\"format\":\"rf-json\"})\n",
    "    try:\n",
    "        json=response.json()['trafficEvents']['events']\n",
    "        \n",
    "    except:\n",
    "        #no accidents\n",
    "        continue\n",
    "    \n",
    "    try:\n",
    "        file=pd.read_csv(s+\"_raw.csv\").drop(columns='Unnamed: 0')\n",
    "        df=file.copy(True)\n",
    "        \n",
    "    except:\n",
    "        file=-1\n",
    "    l=[]\n",
    "    \n",
    "    for i in range(len(json)):\n",
    "        eventType=json[i]['head']['eventType']['type']\n",
    "        if eventType==\"roadwork\": continue\n",
    "        try:\n",
    "            eventDate=json[i]['head']['dates']['created']\n",
    "        except: eventDate=json[i]['head']['dates']['started']\n",
    "        try:eventDate=datetime.fromisoformat(eventDate)\n",
    "        except:continue\n",
    "        year=eventDate.year\n",
    "        month=eventDate.month\n",
    "        day=eventDate.day\n",
    "        hour=eventDate.hour\n",
    "        dayofweek=eventDate.isoweekday()\n",
    "        weekend=eventDate.isoweekday()>=6\n",
    "        locations=json[i]['locations']\n",
    "        \n",
    "        for z in range(len(locations)):\n",
    "            lat=\"\"\n",
    "            lon=\"\"\n",
    "            weth=\"\"\n",
    "            '''try: prefix=locations[z]['pointLocation']['onAddress']['road']['prefix'] \n",
    "            except:prefix=\"\"\n",
    "            try: route=locations[z]['pointLocation']['onAddress']['road']['route'] \n",
    "            except:route=\"\"\n",
    "            try:direction=locations[z]['pointLocation']['onAddress']['road']['direction'] \n",
    "            except:direction=\"\"'''\n",
    "            try:\n",
    "                pos=locations[z]['pointLocation']['Point']['pos']\n",
    "                lat=pos['lat']    \n",
    "                lon=pos['lon']\n",
    "                city=locations[z]['pointLocation']['onAddress']['city']\n",
    "                zipcode=locations[z]['pointLocation']['onAddress']['zipcode']\n",
    "                county=locations[z]['pointLocation']['onAddress']['county']\n",
    "                state=locations[z]['pointLocation']['onAddress']['state']\n",
    "                if state.lower() in ['new york','ny','newyork']:state=\"NY\"\n",
    "                elif state.lower() in ['rhode island','ri','rhodeisland']:state=\"RI\"\n",
    "                elif state.lower() in ['new hamsphire','nh','newhamsphire']:state=\"NH\"\n",
    "                elif state.lower() in ['pennsylvania','pa']:state=\"PA\"\n",
    "                elif state.lower() in ['massachusetts','ma']:state=\"MA\"\n",
    "                \n",
    "            except: continue\n",
    "            counter+=1\n",
    "            weth=rq.get(\"https://api.openweathermap.org/data/2.5/onecall/timemachine\",\n",
    "               params={\"appid\":weather_key,\"lat\":lat,\"lon\":lon,\"units\":\"imperial\",\"dt\":int(eventDate.timestamp())})\n",
    "            if (counter>50):\n",
    "                counter=0\n",
    "                time.sleep(10)\n",
    "                \n",
    "            if (weth.status_code==400):\n",
    "                #print(\"SKIP\")\n",
    "                #Weather free API only get data for the past 5 days. If it's older then it will return an error\n",
    "                continue\n",
    "\n",
    "            temp=weth.json()['current']['temp']\n",
    "            pressure=float(weth.json()['current']['pressure'])/33.86\n",
    "            humidity=weth.json()['current']['humidity']\n",
    "            wind_speed=weth.json()['current']['wind_speed']\n",
    "            weather=weth.json()['current']['weather'][0]['id']\n",
    "            l.append([zipcode,lat,lon,state,temp,humidity,pressure,wind_speed,month,day,hour,dayofweek,weekend,weather])\n",
    "            r=pd.DataFrame(l,columns=columns)\n",
    "            df=pd.concat([df,r],axis=0,ignore_index=True)\n",
    "    if df.shape[0]==0: continue #no accidents\n",
    "    df.columns=columns\n",
    "    df.drop_duplicates(inplace=True)\n",
    "    df.to_csv(s+\"_raw.csv\")\n",
    "    learn=load_learner(s+\".pkl\")\n",
    "    to = learn.dls.train_ds.new(df)\n",
    "    to.process()\n",
    "    dl = TabDataLoader(to)\n",
    "    a,b=learn.get_preds(dl=dl)\n",
    "    l=[]\n",
    "    for i in a:\n",
    "        l.append(i[1].tolist()>=0.5)\n",
    "    df['Severity']=l\n",
    "    df.to_csv(s+\"_predict.csv\")\n",
    "    print(\"Created data for \",state,\"successfully !\")\n",
    "    time.sleep(10)  "
   ]
  }
 ],
 "metadata": {
  "kernelspec": {
   "display_name": "Python 3",
   "language": "python",
   "name": "python3"
  },
  "language_info": {
   "codemirror_mode": {
    "name": "ipython",
    "version": 3
   },
   "file_extension": ".py",
   "mimetype": "text/x-python",
   "name": "python",
   "nbconvert_exporter": "python",
   "pygments_lexer": "ipython3",
   "version": "3.7.7"
  },
  "varInspector": {
   "cols": {
    "lenName": 16,
    "lenType": "30",
    "lenVar": 40
   },
   "kernels_config": {
    "python": {
     "delete_cmd_postfix": "",
     "delete_cmd_prefix": "del ",
     "library": "var_list.py",
     "varRefreshCmd": "print(var_dic_list())"
    },
    "r": {
     "delete_cmd_postfix": ") ",
     "delete_cmd_prefix": "rm(",
     "library": "var_list.r",
     "varRefreshCmd": "cat(var_dic_list()) "
    }
   },
   "types_to_exclude": [
    "module",
    "function",
    "builtin_function_or_method",
    "instance",
    "_Feature"
   ],
   "window_display": false
  }
 },
 "nbformat": 4,
 "nbformat_minor": 4
}
